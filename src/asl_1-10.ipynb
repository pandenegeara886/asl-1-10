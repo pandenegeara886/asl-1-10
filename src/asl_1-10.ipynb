{
 "cells": [
  {
   "cell_type": "code",
   "execution_count": 1,
   "metadata": {},
   "outputs": [],
   "source": [
    "from keras.layers import Conv2D, Dense, Dropout, Flatten, MaxPooling2D\n",
    "from keras.models import Sequential\n",
    "from keras.preprocessing.image import ImageDataGenerator"
   ]
  },
  {
   "cell_type": "code",
   "execution_count": 2,
   "metadata": {},
   "outputs": [
    {
     "name": "stdout",
     "output_type": "stream",
     "text": [
      "Found 1653 images belonging to 10 classes.\n",
      "Found 409 images belonging to 10 classes.\n"
     ]
    }
   ],
   "source": [
    "data_dir = 'C:/Users/ASUS/Documents/asl 1-10/datasetASL-master/Dataset'\n",
    "target_size = (100,100)\n",
    "classes = 10\n",
    "\n",
    "train_datagen = ImageDataGenerator(rescale=1./255,\n",
    "                                   zoom_range=0.1,\n",
    "                                   horizontal_flip=False,\n",
    "                                   validation_split=0.2)\n",
    "train_gen = train_datagen.flow_from_directory(data_dir,target_size=target_size,\n",
    "                                              shuffle=True,\n",
    "                                              batch_size=32,\n",
    "                                              color_mode='rgb',\n",
    "                                              class_mode='categorical',\n",
    "                                              subset='training')\n",
    "val_gen = train_datagen.flow_from_directory(data_dir,target_size=target_size,\n",
    "                                            batch_size=32,\n",
    "                                            color_mode='rgb',\n",
    "                                            class_mode='categorical',\n",
    "                                            subset='validation')\n"
   ]
  },
  {
   "cell_type": "markdown",
   "metadata": {},
   "source": [
    "# Create Model\n"
   ]
  },
  {
   "cell_type": "code",
   "execution_count": 3,
   "metadata": {},
   "outputs": [],
   "source": [
    "model = Sequential()\n",
    "model.add(Conv2D(32, kernel_size = 3,strides=1, activation = 'relu',padding='same', input_shape=(100,100,3)))\n",
    "model.add(MaxPooling2D(pool_size = (3,3),strides=2))\n",
    "\n",
    "model.add(Conv2D(64, kernel_size = 3,strides=1, activation = 'relu',padding='same'))\n",
    "model.add(MaxPooling2D(pool_size = (2,2),strides=2))\n",
    "\n",
    "model.add(Conv2D(64, kernel_size = 3,strides=1, activation = 'relu',padding='same'))\n",
    "model.add(MaxPooling2D(pool_size = (2,2),strides=2))\n",
    "\n",
    "model.add(Conv2D(128, kernel_size = 3,strides=1, activation = 'relu',padding='same'))\n",
    "model.add(MaxPooling2D(pool_size = (2,2),strides=1))\n",
    "\n",
    "model.add(Flatten())\n",
    "model.add(Dropout(0.5))\n",
    "model.add(Dense(512, activation = 'relu'))\n",
    "model.add(Dense(classes, activation = 'softmax'))\n",
    "\n",
    "model.compile(optimizer='Adam',loss='categorical_crossentropy', metrics=['accuracy'])\n"
   ]
  },
  {
   "cell_type": "code",
   "execution_count": 4,
   "metadata": {},
   "outputs": [
    {
     "name": "stdout",
     "output_type": "stream",
     "text": [
      "Model: \"sequential\"\n",
      "_________________________________________________________________\n",
      " Layer (type)                Output Shape              Param #   \n",
      "=================================================================\n",
      " conv2d (Conv2D)             (None, 100, 100, 32)      896       \n",
      "                                                                 \n",
      " max_pooling2d (MaxPooling2  (None, 49, 49, 32)        0         \n",
      " D)                                                              \n",
      "                                                                 \n",
      " conv2d_1 (Conv2D)           (None, 49, 49, 64)        18496     \n",
      "                                                                 \n",
      " max_pooling2d_1 (MaxPoolin  (None, 24, 24, 64)        0         \n",
      " g2D)                                                            \n",
      "                                                                 \n",
      " conv2d_2 (Conv2D)           (None, 24, 24, 64)        36928     \n",
      "                                                                 \n",
      " max_pooling2d_2 (MaxPoolin  (None, 12, 12, 64)        0         \n",
      " g2D)                                                            \n",
      "                                                                 \n",
      " conv2d_3 (Conv2D)           (None, 12, 12, 128)       73856     \n",
      "                                                                 \n",
      " max_pooling2d_3 (MaxPoolin  (None, 11, 11, 128)       0         \n",
      " g2D)                                                            \n",
      "                                                                 \n",
      " flatten (Flatten)           (None, 15488)             0         \n",
      "                                                                 \n",
      " dropout (Dropout)           (None, 15488)             0         \n",
      "                                                                 \n",
      " dense (Dense)               (None, 512)               7930368   \n",
      "                                                                 \n",
      " dense_1 (Dense)             (None, 10)                5130      \n",
      "                                                                 \n",
      "=================================================================\n",
      "Total params: 8065674 (30.77 MB)\n",
      "Trainable params: 8065674 (30.77 MB)\n",
      "Non-trainable params: 0 (0.00 Byte)\n",
      "_________________________________________________________________\n"
     ]
    }
   ],
   "source": [
    "model.summary()"
   ]
  },
  {
   "cell_type": "code",
   "execution_count": 5,
   "metadata": {},
   "outputs": [
    {
     "name": "stderr",
     "output_type": "stream",
     "text": [
      "C:\\Users\\ASUS\\AppData\\Local\\Temp\\ipykernel_11152\\3742114317.py:1: UserWarning: `Model.fit_generator` is deprecated and will be removed in a future version. Please use `Model.fit`, which supports generators.\n",
      "  history = model.fit_generator(train_gen,epochs = 10,validation_data=val_gen)\n"
     ]
    },
    {
     "name": "stdout",
     "output_type": "stream",
     "text": [
      "Epoch 1/10\n",
      "52/52 [==============================] - 16s 292ms/step - loss: 2.2652 - accuracy: 0.1397 - val_loss: 1.9079 - val_accuracy: 0.3007\n",
      "Epoch 2/10\n",
      "52/52 [==============================] - 15s 280ms/step - loss: 0.8998 - accuracy: 0.6987 - val_loss: 1.0422 - val_accuracy: 0.6333\n",
      "Epoch 3/10\n",
      "52/52 [==============================] - 15s 281ms/step - loss: 0.3840 - accuracy: 0.8754 - val_loss: 0.8269 - val_accuracy: 0.7237\n",
      "Epoch 4/10\n",
      "52/52 [==============================] - 15s 288ms/step - loss: 0.2479 - accuracy: 0.9256 - val_loss: 0.7365 - val_accuracy: 0.7482\n",
      "Epoch 5/10\n",
      "52/52 [==============================] - 15s 280ms/step - loss: 0.1818 - accuracy: 0.9474 - val_loss: 0.7566 - val_accuracy: 0.7702\n",
      "Epoch 6/10\n",
      "52/52 [==============================] - 15s 280ms/step - loss: 0.1784 - accuracy: 0.9443 - val_loss: 0.6316 - val_accuracy: 0.7897\n",
      "Epoch 7/10\n",
      "52/52 [==============================] - 14s 278ms/step - loss: 0.0997 - accuracy: 0.9649 - val_loss: 0.6069 - val_accuracy: 0.8240\n",
      "Epoch 8/10\n",
      "52/52 [==============================] - 15s 283ms/step - loss: 0.0730 - accuracy: 0.9782 - val_loss: 0.7408 - val_accuracy: 0.7579\n",
      "Epoch 9/10\n",
      "52/52 [==============================] - 14s 278ms/step - loss: 0.0534 - accuracy: 0.9819 - val_loss: 0.7756 - val_accuracy: 0.7873\n",
      "Epoch 10/10\n",
      "52/52 [==============================] - 14s 278ms/step - loss: 0.0631 - accuracy: 0.9782 - val_loss: 0.6722 - val_accuracy: 0.8044\n"
     ]
    }
   ],
   "source": [
    "history = model.fit_generator(train_gen,epochs = 10,validation_data=val_gen)"
   ]
  },
  {
   "cell_type": "code",
   "execution_count": 6,
   "metadata": {},
   "outputs": [
    {
     "name": "stdout",
     "output_type": "stream",
     "text": [
      "model saved\n"
     ]
    },
    {
     "name": "stderr",
     "output_type": "stream",
     "text": [
      "c:\\Users\\ASUS\\AppData\\Local\\Programs\\Python\\Python311\\Lib\\site-packages\\keras\\src\\engine\\training.py:3000: UserWarning: You are saving your model as an HDF5 file via `model.save()`. This file format is considered legacy. We recommend using instead the native Keras format, e.g. `model.save('my_model.keras')`.\n",
      "  saving_api.save_model(\n"
     ]
    }
   ],
   "source": [
    "model.save(\"sign_mnist_cnn_50_Epochs.h5\")\n",
    "print(\"model saved\")"
   ]
  },
  {
   "cell_type": "code",
   "execution_count": 7,
   "metadata": {},
   "outputs": [
    {
     "data": {
      "image/png": "[encoded data removed]",
      "text/plain": [
       "<Figure size 640x480 with 1 Axes>"
      ]
     },
     "metadata": {},
     "output_type": "display_data"
    }
   ],
   "source": [
    "import matplotlib.pyplot as plt\n",
    "\n",
    "plt.plot(history.history['accuracy'])\n",
    "plt.plot(history.history['val_accuracy'])\n",
    "plt.title(\"model accuracy\")\n",
    "plt.xlabel('epochs')\n",
    "plt.ylabel('accuracy')\n",
    "plt.legend(['train', 'test'])\n",
    "plt.show()"
   ]
  },
  {
   "cell_type": "code",
   "execution_count": 9,
   "metadata": {},
   "outputs": [
    {
     "name": "stdout",
     "output_type": "stream",
     "text": [
      "model saved\n"
     ]
    }
   ],
   "source": [
    "model_json = model.to_json()\n",
    "with open(\"model.json\",\"w\") as file:\n",
    "    file.write(model_json)\n",
    "model.save_weights(\"model.h5\")\n",
    "print(\"model saved\")"
   ]
  },
  {
   "cell_type": "code",
   "execution_count": 15,
   "metadata": {},
   "outputs": [
    {
     "name": "stdout",
     "output_type": "stream",
     "text": [
      "LOADED!!\n"
     ]
    }
   ],
   "source": [
    "from keras.models import model_from_json\n",
    "json_file =open('model.json','r')\n",
    "loaded_model_json = json_file.read()\n",
    "json_file.close()\n",
    "\n",
    "load_model = model_from_json(loaded_model_json)\n",
    "load_model.load_weights(\"C:/Users/ASUS/Documents/asl 1-10/src/model.h5\")\n",
    "print(\"LOADED!!\")"
   ]
  },
  {
   "cell_type": "code",
   "execution_count": 29,
   "metadata": {},
   "outputs": [
    {
     "name": "stdout",
     "output_type": "stream",
     "text": [
      "Model saved\n",
      "Model loaded\n",
      "1/1 [==============================] - 0s 66ms/step\n",
      "Predicted class:  9\n"
     ]
    }
   ],
   "source": [
    "from tensorflow.keras.models import model_from_json\n",
    "import numpy as np\n",
    "import cv2\n",
    "\n",
    "# Save model architecture to JSON file and weights to HDF5 file\n",
    "model_json = model.to_json()\n",
    "with open(\"model.json\", \"w\") as file:\n",
    "    file.write(model_json)\n",
    "model.save_weights(\"model.h5\")\n",
    "print(\"Model saved\")\n",
    "\n",
    "# Load model architecture from JSON file and load weights\n",
    "json_file = open('model.json', 'r')\n",
    "loaded_model_json = json_file.read()\n",
    "json_file.close()\n",
    "\n",
    "loaded_model = model_from_json(loaded_model_json)\n",
    "loaded_model.load_weights(\"model.h5\")\n",
    "print(\"Model loaded\")\n",
    "\n",
    "# Read and preprocess the image\n",
    "image = cv2.imread(\"C:/Users/ASUS/Documents/asl 1-10/datasetASL-master/Examples/example_9.JPG\")\n",
    "image = cv2.resize(image, (100, 100))\n",
    "image = np.reshape(image, [1, 100, 100, 3])\n",
    "\n",
    "# Make predictions\n",
    "predictions = loaded_model.predict(image)\n",
    "\n",
    "# Get the predicted class\n",
    "predicted_class = np.argmax(predictions)\n",
    "\n",
    "print(\"Predicted class: \", predicted_class)\n"
   ]
  }
 ],
 "metadata": {
  "kernelspec": {
   "display_name": "Python 3",
   "language": "python",
   "name": "python3"
  },
  "language_info": {
   "codemirror_mode": {
    "name": "ipython",
    "version": 3
   },
   "file_extension": ".py",
   "mimetype": "text/x-python",
   "name": "python",
   "nbconvert_exporter": "python",
   "pygments_lexer": "ipython3",
   "version": "3.11.5"
  }
 },
 "nbformat": 4,
 "nbformat_minor": 2
}
